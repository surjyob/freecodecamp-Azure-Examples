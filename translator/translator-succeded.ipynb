{
 "cells": [
  {
   "cell_type": "code",
   "execution_count": null,
   "id": "dc8a5917-95ec-4e93-a6f1-77697e8fccbd",
   "metadata": {},
   "outputs": [],
   "source": [
    "# https://github.com/Azure/azure-sdk-for-python/blob/azure-ai-translation-text_1.0.1/sdk/translation/azure-ai-translation-text/samples/sample_text_translation_client.py\n",
    "# https://learn.microsoft.com/en-us/python/api/overview/azure/ai-translation-text-readme?view=azure-python"
   ]
  },
  {
   "cell_type": "raw",
   "id": "c4af28fa-9793-4077-b6dc-e5efc9ad1ab8",
   "metadata": {
    "tags": []
   },
   "source": [
    "pip install azure-ai-translation-text==1.0.1"
   ]
  },
  {
   "cell_type": "code",
   "execution_count": 3,
   "id": "49e1a1c4-8729-49ad-8fc2-c3f3a3c15a9b",
   "metadata": {
    "tags": []
   },
   "outputs": [],
   "source": [
    "from azure.ai.translation.text import TextTranslationClient\n",
    "from azure.core.credentials import AzureKeyCredential"
   ]
  },
  {
   "cell_type": "code",
   "execution_count": null,
   "id": "ebdd6d33-7bcb-4f6a-99e6-bcb1629f6ea1",
   "metadata": {
    "tags": []
   },
   "outputs": [],
   "source": [
    "apikey = \"\"\n",
    "region = \"westus\""
   ]
  },
  {
   "cell_type": "code",
   "execution_count": 5,
   "id": "b94b3259-5f40-4945-9a7d-a96055170e55",
   "metadata": {
    "tags": []
   },
   "outputs": [],
   "source": [
    "credential = AzureKeyCredential(apikey)\n",
    "text_translator = TextTranslationClient(credential=credential, region=region)"
   ]
  },
  {
   "cell_type": "code",
   "execution_count": 8,
   "id": "bffd2a71-1086-47dd-a5f6-4fce096f4d40",
   "metadata": {
    "tags": []
   },
   "outputs": [
    {
     "name": "stdout",
     "output_type": "stream",
     "text": [
      "Detected languages of the input text: en with score: 1.0.\n",
      "Text was translated to: 'cs' and the result is: 'Tohle je test'.\n",
      "Text was translated to: 'es' and the result is: 'Esto es una prueba'.\n",
      "Text was translated to: 'de' and the result is: 'Dies ist ein Test'.\n"
     ]
    }
   ],
   "source": [
    "try:\n",
    "    to_language = [\"cs\", \"es\", \"de\"]\n",
    "    input_text_elements = [\"This is a test\"]\n",
    "\n",
    "    response = text_translator.translate(body=input_text_elements, to_language=to_language)\n",
    "    translation = response[0] if response else None\n",
    "\n",
    "    if translation:\n",
    "        detected_language = translation.detected_language\n",
    "        if detected_language:\n",
    "            print(\n",
    "                f\"Detected languages of the input text: {detected_language.language} with score: {detected_language.score}.\"\n",
    "            )\n",
    "        for translated_text in translation.translations:\n",
    "            print(f\"Text was translated to: '{translated_text.to}' and the result is: '{translated_text.text}'.\")\n",
    "\n",
    "except HttpResponseError as exception:\n",
    "    if exception.error is not None:\n",
    "        print(f\"Error Code: {exception.error.code}\")\n",
    "        print(f\"Message: {exception.error.message}\")"
   ]
  },
  {
   "cell_type": "code",
   "execution_count": null,
   "id": "e8112dd5-497b-46c0-9eb2-728f1d3fe2f3",
   "metadata": {},
   "outputs": [],
   "source": []
  }
 ],
 "metadata": {
  "kernelspec": {
   "display_name": "Python 3.10 - SDK v2",
   "language": "python",
   "name": "python310-sdkv2"
  },
  "language_info": {
   "codemirror_mode": {
    "name": "ipython",
    "version": 3
   },
   "file_extension": ".py",
   "mimetype": "text/x-python",
   "name": "python",
   "nbconvert_exporter": "python",
   "pygments_lexer": "ipython3",
   "version": "3.10.16"
  }
 },
 "nbformat": 4,
 "nbformat_minor": 5
}
